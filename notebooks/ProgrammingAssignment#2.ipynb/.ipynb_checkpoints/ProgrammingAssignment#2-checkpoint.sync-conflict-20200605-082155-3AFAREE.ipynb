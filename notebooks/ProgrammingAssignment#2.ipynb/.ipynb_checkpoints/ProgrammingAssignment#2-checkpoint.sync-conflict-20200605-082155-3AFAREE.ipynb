{
 "cells": [
  {
   "cell_type": "markdown",
   "metadata": {},
   "source": [
    "# Programming Assignment #2\n",
    "Interact with NumPy and Pandas in Python using Sochi Winter Olympics data. There are multiple questions in this assignment, go through it step by step. Read the Code Requirements at the end of this assignment before start coding. \n",
    "\n",
    "# Read the task in each cell, complete the code in the empty cell given for the task, then move onto the next task.  \n",
    "\n",
    "Documentation Links:\n",
    "\n",
    "Read the material in Module 2 and follow the examples. Additional Help can be found in these URLs.\n",
    "\n",
    "Pandas: http://pandas.pydata.org/pandas-docs/stable/ \n",
    "Tutorial: https://bitbucket.org/hrojas/learn-pandas\n"
   ]
  },
  {
   "cell_type": "raw",
   "metadata": {},
   "source": [
    "1) Create a data frame. \n",
    "\n",
    "Syntax Reminder:\n",
    "#\n",
    "# The following code would create a two-column pandas DataFrame\n",
    "# named df with columns labeled 'name' and 'age':\n",
    "#\n",
    "# people = ['Sarah', 'Mike', 'Chrisna']\n",
    "# ages = [28, 32, 25]\n",
    "# df = DataFrame({'name' : Series(people),\n",
    "# 'age' : Series(ages)})\n",
    "\n",
    "# Task: Create a pandas Dataframe called 'olympic_medal_counts_df' containing the data from the table of 2014 Sochi winter olympics medal counts.  Then write all this data to a CSV file named \"SochiWinter2014.CSV\"\n",
    "\n",
    "Here is the Data.\n",
    "\n",
    "countries = ['Russian Fed.', 'Norway', 'Canada', 'United States',\n",
    "'Netherlands', 'Germany', 'Switzerland', 'Belarus',\n",
    "'Austria', 'France', 'Poland', 'China', 'Korea',\n",
    "'Sweden', 'Czech Republic', 'Slovenia', 'Japan',\n",
    "'Finland', 'Great Britain', 'Ukraine', 'Slovakia',\n",
    "'Italy', 'Latvia', 'Australia', 'Croatia', 'Kazakhstan']\n",
    "\n",
    "gold = [13, 11, 10, 9, 8, 8, 6, 5, 4, 4, 4, 3, 3, 2, 2, 2, 1, 1, 1, 1, 1, 0, 0, 0, 0, 0]\n",
    "silver = [11, 5, 10, 7, 7, 6, 3, 0, 8, 4, 1, 4, 3, 7, 4, 2, 4, 3, 1, 0, 0, 2, 2, 2, 1, 0]\n",
    "bronze = [9, 10, 5, 12, 9, 5, 2, 1, 5, 7, 1, 2, 2, 6, 2, 4, 3, 1, 2, 1, 0, 6, 2, 1, 0, 1]"
   ]
  },
  {
   "cell_type": "code",
   "execution_count": 16,
   "metadata": {},
   "outputs": [
    {
     "name": "stdout",
     "output_type": "stream",
     "text": [
      "              name  numberOfGold  numberOfSilver  numberOfBronze\n",
      "0     Russian Fed.            13              11               9\n",
      "1           Norway            11               5              10\n",
      "2           Canada            10              10               5\n",
      "3    United States             9               7              12\n",
      "4      Netherlands             8               7               9\n",
      "5          Germany             8               6               5\n",
      "6      Switzerland             6               3               2\n",
      "7          Belarus             5               0               1\n",
      "8          Austria             4               8               5\n",
      "9           France             4               4               7\n",
      "10          Poland             4               1               1\n",
      "11           China             3               4               2\n",
      "12           Korea             3               3               2\n",
      "13          Sweden             2               7               6\n",
      "14  Czech Republic             2               4               2\n",
      "15        Slovenia             2               2               4\n",
      "16           Japan             1               4               3\n",
      "17         Finland             1               3               1\n",
      "18   Great Britain             1               1               2\n",
      "19         Ukraine             1               0               1\n",
      "20        Slovakia             1               0               0\n",
      "21           Italy             0               2               6\n",
      "22          Latvia             0               2               2\n",
      "23       Australia             0               2               1\n",
      "24         Croatia             0               1               0\n",
      "25      Kazakhstan             0               0               1\n"
     ]
    }
   ],
   "source": [
    "# Code for task 1\n",
    "import pandas\n",
    "import numpy\n",
    "countries = ['Russian Fed.', 'Norway', 'Canada', 'United States',\n",
    "'Netherlands', 'Germany', 'Switzerland', 'Belarus',\n",
    "'Austria', 'France', 'Poland', 'China', 'Korea',\n",
    "'Sweden', 'Czech Republic', 'Slovenia', 'Japan',\n",
    "'Finland', 'Great Britain', 'Ukraine', 'Slovakia',\n",
    "'Italy', 'Latvia', 'Australia', 'Croatia', 'Kazakhstan']\n",
    "\n",
    "gold = [13, 11, 10, 9, 8, 8, 6, 5, 4, 4, 4, 3, 3, 2, 2, 2, 1, 1, 1, 1, 1, 0, 0, 0, 0, 0]\n",
    "silver = [11, 5, 10, 7, 7, 6, 3, 0, 8, 4, 1, 4, 3, 7, 4, 2, 4, 3, 1, 0, 0, 2, 2, 2, 1, 0]\n",
    "bronze = [9, 10, 5, 12, 9, 5, 2, 1, 5, 7, 1, 2, 2, 6, 2, 4, 3, 1, 2, 1, 0, 6, 2, 1, 0, 1]\n",
    "olympic_medal_counts_df = pandas.DataFrame({'name':pandas.Series(countries),'numberOfGold':pandas.Series(gold),'numberOfSilver':pandas.Series(silver),'numberOfBronze':pandas.Series(bronze)})\n",
    "print(olympic_medal_counts_df)\n",
    "olympic_medal_counts_df.to_csv('SochiWinter2014.CSV')"
   ]
  },
  {
   "cell_type": "raw",
   "metadata": {},
   "source": [
    "2) Basic analysis on Sochi medal count. \n",
    "\n",
    "Task: Compute the average number of bronze medals earned by countries who earned at least one gold medal. Save this to a variable named avg_bronze_at_least_one_gold. Then output this data to console window with an appropriate label. \n",
    "\n",
    "HINT-1:\n",
    "You can retrieve all of the values of a Pandas column from a data frame, \"df\", as follows: df['column_name']\n",
    "\n",
    "HINT-2:\n",
    "The numpy.mean function can accept a single Pandas column as an argument."
   ]
  },
  {
   "cell_type": "code",
   "execution_count": 20,
   "metadata": {},
   "outputs": [
    {
     "name": "stdout",
     "output_type": "stream",
     "text": [
      "4.238095238095238\n"
     ]
    }
   ],
   "source": [
    "# Code for task 2\n",
    "avg_bronze_at_least_one_gold = numpy.mean(olympic_medal_counts_df.iloc[:21]['numberOfBronze'])\n",
    "print(avg_bronze_at_least_one_gold)"
   ]
  },
  {
   "cell_type": "raw",
   "metadata": {},
   "source": [
    "3) Basic analysis on Sochi medal count.\n",
    "\n",
    "Task:  Using the dataframe's apply (Links to an external site.) function, create a new Series called avg_medal_count that indicates the average number of gold, silver, and bronze medals earned amongst countries who earned at  least one medal of any kind at the 2014 Sochi olympics. Note that the countries list already only includes countries that have earned at least one medal. Output this series on to console.  Then write all this data to a CSV file named \"SochiWinter2014Averages.CSV\""
   ]
  },
  {
   "cell_type": "code",
   "execution_count": null,
   "metadata": {},
   "outputs": [],
   "source": [
    "# Code for task 3"
   ]
  },
  {
   "cell_type": "raw",
   "metadata": {},
   "source": [
    "4) Using Numpy.dot   (https://numpy.org/doc/stable/reference/generated/numpy.dot.html)\n",
    "\n",
    "Task:  Imagine a point system in which each country is awarded 4 points for each gold medal, 2 points for each silver medal, and one point for each  bronze medal.\n",
    "\n",
    "Using the numpy.dot function, create a new dataframe called 'olympic_points_df' that includes:\n",
    "a) a column called 'country_name' with the country name\n",
    "b) a column called 'points' with the total number of points the country earned at the Sochi olympics.\n",
    "\n",
    "Output this Dataframe on to console. "
   ]
  },
  {
   "cell_type": "code",
   "execution_count": null,
   "metadata": {},
   "outputs": [],
   "source": [
    "# Code for task 4"
   ]
  },
  {
   "cell_type": "raw",
   "metadata": {},
   "source": [
    "Turn in your ProgrammingAssignment#2.ipynb \n",
    "Did your program produce 2 CSV output files and two console outputs? "
   ]
  }
 ],
 "metadata": {
  "kernelspec": {
   "display_name": "Python 3",
   "language": "python",
   "name": "python3"
  },
  "language_info": {
   "codemirror_mode": {
    "name": "ipython",
    "version": 3
   },
   "file_extension": ".py",
   "mimetype": "text/x-python",
   "name": "python",
   "nbconvert_exporter": "python",
   "pygments_lexer": "ipython3",
   "version": "3.7.6"
  }
 },
 "nbformat": 4,
 "nbformat_minor": 2
}
