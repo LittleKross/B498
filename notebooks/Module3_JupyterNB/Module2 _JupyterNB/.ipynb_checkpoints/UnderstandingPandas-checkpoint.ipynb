{
 "cells": [
  {
   "cell_type": "markdown",
   "metadata": {},
   "source": [
    "# Introduction to Pandas\n",
    "Pandas objects can be thought of as enhanced versions of NumPy structured arrays in which the rows and columns are identified with labels rather than simple integer indices. \n",
    "As we will see during the course of this chapter, Pandas provides a host of useful tools, methods, and functionality on top of the basic data structures\n",
    "We will introduce three fundamental Pandas data structures: the Series, DataFrame, and Index. "
   ]
  },
  {
   "cell_type": "code",
   "execution_count": 2,
   "metadata": {},
   "outputs": [
    {
     "name": "stdout",
     "output_type": "stream",
     "text": [
      "0    0.25\n",
      "1    0.50\n",
      "2    0.75\n",
      "3    1.00\n",
      "dtype: float64\n",
      "0.5\n"
     ]
    },
    {
     "data": {
      "text/plain": [
       "1    0.50\n",
       "2    0.75\n",
       "dtype: float64"
      ]
     },
     "execution_count": 2,
     "metadata": {},
     "output_type": "execute_result"
    }
   ],
   "source": [
    "#start our code sessions with the standard NumPy and Pandas imports\n",
    "import numpy as np\n",
    "import pandas as pd\n",
    "\n",
    "#A Pandas Series is a one-dimensional array of indexed data. \n",
    "data = pd.Series([0.25, 0.5, 0.75, 1.0])\n",
    "print(data)\n",
    "#The index is an array-like object of type pd.Index\n",
    "data.index\n",
    "\n",
    "#accessed by the associated index via the familiar Python square-bracket notation\n",
    "print(data[1]) \n",
    "data[1:3]"
   ]
  },
  {
   "cell_type": "markdown",
   "metadata": {},
   "source": [
    "The index need not be an integer, but can consist of values of any desired type. For example, if we wish, we can use strings as an index:"
   ]
  },
  {
   "cell_type": "code",
   "execution_count": 9,
   "metadata": {},
   "outputs": [
    {
     "name": "stdout",
     "output_type": "stream",
     "text": [
      "a    0.25\n",
      "b    0.50\n",
      "c    0.75\n",
      "d    1.00\n",
      "dtype: float64\n"
     ]
    },
    {
     "data": {
      "text/plain": [
       "0.5"
      ]
     },
     "execution_count": 9,
     "metadata": {},
     "output_type": "execute_result"
    }
   ],
   "source": [
    "data = pd.Series([0.25, 0.5, 0.75, 1.0],\n",
    "                 index=['a', 'b', 'c', 'd'])\n",
    "print(data)\n",
    "# item access works with string index\n",
    "data['b'] "
   ]
  },
  {
   "cell_type": "markdown",
   "metadata": {},
   "source": [
    "Pandas Series is a bit like a specialization of a Python dictionary. A dictionary is a structure that maps arbitrary keys to a set of arbitrary values, and a Series is a structure which maps typed keys to a set of typed values."
   ]
  },
  {
   "cell_type": "code",
   "execution_count": 13,
   "metadata": {},
   "outputs": [
    {
     "name": "stdout",
     "output_type": "stream",
     "text": [
      "California    38332521\n",
      "Texas         26448193\n",
      "New York      19651127\n",
      "Florida       19552860\n",
      "Illinois      12882135\n",
      "dtype: int64\n"
     ]
    }
   ],
   "source": [
    "#constructing a Series object directly from a Python dictionary\n",
    "population_dict = {'California': 38332521,\n",
    "                   'Texas': 26448193,\n",
    "                   'New York': 19651127,\n",
    "                   'Florida': 19552860,\n",
    "                   'Illinois': 12882135}\n",
    "population = pd.Series(population_dict)\n",
    "print(population)"
   ]
  },
  {
   "cell_type": "code",
   "execution_count": 14,
   "metadata": {},
   "outputs": [
    {
     "name": "stdout",
     "output_type": "stream",
     "text": [
      "38332521\n",
      "California    38332521\n",
      "Texas         26448193\n",
      "New York      19651127\n",
      "Florida       19552860\n",
      "Illinois      12882135\n",
      "dtype: int64\n"
     ]
    }
   ],
   "source": [
    "#typical dictionary-style item access can be performed\n",
    "print(population['California'])\n",
    "#slicing\n",
    "print(population['California':'Illinois'])"
   ]
  },
  {
   "cell_type": "code",
   "execution_count": 15,
   "metadata": {},
   "outputs": [
    {
     "name": "stdout",
     "output_type": "stream",
     "text": [
      "0    2\n",
      "1    4\n",
      "2    6\n",
      "dtype: int64\n",
      "\n",
      "\n",
      "100    5\n",
      "200    5\n",
      "300    5\n",
      "dtype: int64\n",
      "\n",
      "\n",
      "2    a\n",
      "1    b\n",
      "3    c\n",
      "dtype: object\n"
     ]
    }
   ],
   "source": [
    "#For example, data can be a list or NumPy array, in which case index defaults to an integer sequence\n",
    "print(pd.Series([2, 4, 6]))\n",
    "print('\\n')\n",
    "\n",
    "#data can be a scalar, which is repeated to fill the specified index:\n",
    "print(pd.Series(5, index=[100, 200, 300]))\n",
    "print('\\n')\n",
    "\n",
    "#data can be a dictionary, in which index defaults to the sorted dictionary keys\n",
    "print(pd.Series({2:'a', 1:'b', 3:'c'}))"
   ]
  },
  {
   "cell_type": "markdown",
   "metadata": {},
   "source": [
    "# DataFrame\n",
    "If a Series is an analog of a one-dimensional array with flexible indices, a DataFrame is an analog of a two-dimensional array with both flexible row indices and flexible column names. \n",
    "You can think of a DataFrame as a sequence of aligned Series objects. "
   ]
  },
  {
   "cell_type": "code",
   "execution_count": 16,
   "metadata": {},
   "outputs": [
    {
     "data": {
      "text/plain": [
       "California    423967\n",
       "Texas         695662\n",
       "New York      141297\n",
       "Florida       170312\n",
       "Illinois      149995\n",
       "dtype: int64"
      ]
     },
     "execution_count": 16,
     "metadata": {},
     "output_type": "execute_result"
    }
   ],
   "source": [
    "area_dict = {'California': 423967, 'Texas': 695662, 'New York': 141297,\n",
    "             'Florida': 170312, 'Illinois': 149995}\n",
    "area = pd.Series(area_dict)\n",
    "area"
   ]
  },
  {
   "cell_type": "markdown",
   "metadata": {},
   "source": [
    "Now that we have this along with the population Series from before, we can use a dictionary to construct a single two-dimensional object containing this information:"
   ]
  },
  {
   "cell_type": "code",
   "execution_count": 17,
   "metadata": {},
   "outputs": [
    {
     "data": {
      "text/html": [
       "<div>\n",
       "<style scoped>\n",
       "    .dataframe tbody tr th:only-of-type {\n",
       "        vertical-align: middle;\n",
       "    }\n",
       "\n",
       "    .dataframe tbody tr th {\n",
       "        vertical-align: top;\n",
       "    }\n",
       "\n",
       "    .dataframe thead th {\n",
       "        text-align: right;\n",
       "    }\n",
       "</style>\n",
       "<table border=\"1\" class=\"dataframe\">\n",
       "  <thead>\n",
       "    <tr style=\"text-align: right;\">\n",
       "      <th></th>\n",
       "      <th>population</th>\n",
       "      <th>area</th>\n",
       "    </tr>\n",
       "  </thead>\n",
       "  <tbody>\n",
       "    <tr>\n",
       "      <th>California</th>\n",
       "      <td>38332521</td>\n",
       "      <td>423967</td>\n",
       "    </tr>\n",
       "    <tr>\n",
       "      <th>Texas</th>\n",
       "      <td>26448193</td>\n",
       "      <td>695662</td>\n",
       "    </tr>\n",
       "    <tr>\n",
       "      <th>New York</th>\n",
       "      <td>19651127</td>\n",
       "      <td>141297</td>\n",
       "    </tr>\n",
       "    <tr>\n",
       "      <th>Florida</th>\n",
       "      <td>19552860</td>\n",
       "      <td>170312</td>\n",
       "    </tr>\n",
       "    <tr>\n",
       "      <th>Illinois</th>\n",
       "      <td>12882135</td>\n",
       "      <td>149995</td>\n",
       "    </tr>\n",
       "  </tbody>\n",
       "</table>\n",
       "</div>"
      ],
      "text/plain": [
       "            population    area\n",
       "California    38332521  423967\n",
       "Texas         26448193  695662\n",
       "New York      19651127  141297\n",
       "Florida       19552860  170312\n",
       "Illinois      12882135  149995"
      ]
     },
     "execution_count": 17,
     "metadata": {},
     "output_type": "execute_result"
    }
   ],
   "source": [
    "states = pd.DataFrame({'population': population,\n",
    "                       'area': area})\n",
    "states"
   ]
  },
  {
   "cell_type": "markdown",
   "metadata": {},
   "source": [
    "Like the Series object, the DataFrame has an index attribute that gives access to the index labels.\n",
    "Additionally, the DataFrame has a columns attribute, which is an Index object holding the column labels.\n",
    "Thus the DataFrame can be thought of as a generalization of a two-dimensional NumPy array, where both the rows and columns have a generalized index for accessing the data."
   ]
  },
  {
   "cell_type": "code",
   "execution_count": 20,
   "metadata": {},
   "outputs": [
    {
     "name": "stdout",
     "output_type": "stream",
     "text": [
      "Index(['California', 'Texas', 'New York', 'Florida', 'Illinois'], dtype='object')\n",
      "Index(['population', 'area'], dtype='object')\n"
     ]
    }
   ],
   "source": [
    "print(states.index)\n",
    "print(states.columns)"
   ]
  },
  {
   "cell_type": "markdown",
   "metadata": {},
   "source": [
    "A Pandas DataFrame can be constructed in a variety of ways. "
   ]
  },
  {
   "cell_type": "code",
   "execution_count": 26,
   "metadata": {},
   "outputs": [
    {
     "name": "stdout",
     "output_type": "stream",
     "text": [
      "            population\n",
      "California    38332521\n",
      "Texas         26448193\n",
      "New York      19651127\n",
      "Florida       19552860\n",
      "Illinois      12882135\n",
      "\n",
      "\n",
      "   a  b\n",
      "0  0  0\n",
      "1  1  2\n",
      "2  2  4\n",
      "\n",
      "\n",
      "     a  b    c\n",
      "0  1.0  2  NaN\n",
      "1  NaN  3  4.0\n",
      "\n",
      "\n",
      "            population    area\n",
      "California    38332521  423967\n",
      "Texas         26448193  695662\n",
      "New York      19651127  141297\n",
      "Florida       19552860  170312\n",
      "Illinois      12882135  149995\n",
      "\n",
      "\n"
     ]
    }
   ],
   "source": [
    "#From a single Series object\n",
    "print(pd.DataFrame(population, columns=['population']))\n",
    "print('\\n')\n",
    "#From a list of dicts\n",
    "data = [{'a': i, 'b': 2 * i}\n",
    "        for i in range(3)]\n",
    "print(pd.DataFrame(data))\n",
    "print('\\n')\n",
    "#if some keys in the dictionary are missing, Pandas will fill them in with NaN (i.e., \"not a number\") \n",
    "print(pd.DataFrame([{'a': 1, 'b': 2}, {'b': 3, 'c': 4}]))\n",
    "print('\\n')\n",
    "\n",
    "#From a dictionary of Series objects\n",
    "print(pd.DataFrame({'population': population,\n",
    "              'area': area}))\n",
    "print('\\n')"
   ]
  },
  {
   "cell_type": "markdown",
   "metadata": {},
   "source": [
    "# Load Data From CSV \n",
    "CSV (comma-separated value) files are a common file format for transferring and storing data. \n",
    "The ability to read, manipulate, and write data to and from CSV files using Python is a key skill.\n",
    "We look at how to read CSV files into Pandas DataFrames, and how to write DataFrames back to CSV files.\n",
    "Advanced features of file handling can be found here https://www.shanelynn.ie/python-pandas-read_csv-load-data-from-csv-files/"
   ]
  },
  {
   "cell_type": "code",
   "execution_count": 31,
   "metadata": {},
   "outputs": [
    {
     "name": "stdout",
     "output_type": "stream",
     "text": [
      "       Admit  Gender Dept  Freq\n",
      "0   Admitted    Male    A   512\n",
      "1   Rejected    Male    A   313\n",
      "2   Admitted  Female    A    89\n",
      "3   Rejected  Female    A    19\n",
      "4   Admitted    Male    B   353\n",
      "5   Rejected    Male    B   207\n",
      "6   Admitted  Female    B    17\n",
      "7   Rejected  Female    B     8\n",
      "8   Admitted    Male    C   120\n",
      "9   Rejected    Male    C   205\n",
      "10  Admitted  Female    C   202\n",
      "11  Rejected  Female    C   391\n",
      "12  Admitted    Male    D   138\n",
      "13  Rejected    Male    D   279\n",
      "14  Admitted  Female    D   131\n",
      "15  Rejected  Female    D   244\n",
      "16  Admitted    Male    E    53\n",
      "17  Rejected    Male    E   138\n",
      "18  Admitted  Female    E    94\n",
      "19  Rejected  Female    E   299\n",
      "20  Admitted    Male    F    22\n",
      "21  Rejected    Male    F   351\n",
      "22  Admitted  Female    F    24\n",
      "23  Rejected  Female    F   317\n"
     ]
    }
   ],
   "source": [
    "# Load the Pandas libraries with alias 'pd' \n",
    "import pandas as pd \n",
    "# Read data from file 'Berkeley.csv' \n",
    "# (in the same directory that your python process is based)\n",
    "# Control delimiters, rows, column names with read_csv (see later) \n",
    "data = pd.read_csv(\"Berkeley.csv\") \n",
    "# Preview the loaded data \n",
    "print(data)"
   ]
  },
  {
   "cell_type": "markdown",
   "metadata": {},
   "source": [
    "Now you can run a query."
   ]
  },
  {
   "cell_type": "code",
   "execution_count": 22,
   "metadata": {},
   "outputs": [],
   "source": [
    "results = data.loc[(data[\"Admit\"] == \"Admitted\") & \n",
    "          (data[\"Gender\"] == \"Female\" )]"
   ]
  },
  {
   "cell_type": "markdown",
   "metadata": {},
   "source": [
    "Write results to an output file with index using to_csv()"
   ]
  },
  {
   "cell_type": "code",
   "execution_count": 25,
   "metadata": {},
   "outputs": [],
   "source": [
    "test['Freq'].to_csv(\"FrequencyAdmittedFemale.csv\")"
   ]
  },
  {
   "cell_type": "markdown",
   "metadata": {},
   "source": [
    "# Some Examples"
   ]
  },
  {
   "cell_type": "code",
   "execution_count": 29,
   "metadata": {},
   "outputs": [
    {
     "name": "stdout",
     "output_type": "stream",
     "text": [
      "   losses     team  wins  year\n",
      "0       5    Bears    11  2010\n",
      "1       8    Bears     8  2011\n",
      "2       6    Bears    10  2012\n",
      "3       1  Packers    15  2011\n",
      "4       5  Packers    11  2012\n",
      "5      10    Lions     6  2010\n",
      "6       6    Lions    10  2011\n",
      "7      12    Lions     4  2012\n",
      "losses     int64\n",
      "team      object\n",
      "wins       int64\n",
      "year       int64\n",
      "dtype: object\n",
      "\n",
      "\n",
      "          losses       wins         year\n",
      "count   8.000000   8.000000     8.000000\n",
      "mean    6.625000   9.375000  2011.125000\n",
      "std     3.377975   3.377975     0.834523\n",
      "min     1.000000   4.000000  2010.000000\n",
      "25%     5.000000   7.500000  2010.750000\n",
      "50%     6.000000  10.000000  2011.000000\n",
      "75%     8.500000  11.000000  2012.000000\n",
      "max    12.000000  15.000000  2012.000000\n",
      "\n",
      "\n",
      "   losses     team  wins  year\n",
      "0       5    Bears    11  2010\n",
      "1       8    Bears     8  2011\n",
      "2       6    Bears    10  2012\n",
      "3       1  Packers    15  2011\n",
      "4       5  Packers    11  2012\n",
      "\n",
      "\n",
      "   losses     team  wins  year\n",
      "3       1  Packers    15  2011\n",
      "4       5  Packers    11  2012\n",
      "5      10    Lions     6  2010\n",
      "6       6    Lions    10  2011\n",
      "7      12    Lions     4  2012\n"
     ]
    }
   ],
   "source": [
    "import numpy as np\n",
    "import pandas as pd\n",
    "\n",
    "'''\n",
    "The following code is to help you play with the concept of Dataframe in Pandas.\n",
    "\n",
    "You can think of a Dataframe as something with rows and columns. It is\n",
    "similar to a spreadsheet, a database table, or R's data.frame object.\n",
    "\n",
    "*This playground is inspired by Greg Reda's post on Intro to Pandas Data Structures:\n",
    "http://www.gregreda.com/2013/10/26/intro-to-pandas-data-structures/\n",
    "'''\n",
    "\n",
    "'''\n",
    "To create a dataframe, you can pass a dictionary of lists to the Dataframe\n",
    "constructor:\n",
    "1) The key of the dictionary will be the column name\n",
    "2) The associating list will be the values within that column.\n",
    "'''\n",
    "# Change False to True to see Dataframes in action\n",
    "if True:\n",
    "    data = {'year': [2010, 2011, 2012, 2011, 2012, 2010, 2011, 2012],\n",
    "            'team': ['Bears', 'Bears', 'Bears', 'Packers', 'Packers', 'Lions',\n",
    "                     'Lions', 'Lions'],\n",
    "            'wins': [11, 8, 10, 15, 11, 6, 10, 4],\n",
    "            'losses': [5, 8, 6, 1, 5, 10, 6, 12]}\n",
    "    football = pd.DataFrame(data)\n",
    "    print (football)\n",
    "\n",
    "'''\n",
    "Pandas also has various functions that will help you understand some basic\n",
    "information about your data frame. Some of these functions are:\n",
    "1) dtypes: to get the datatype for each column\n",
    "2) describe: useful for seeing basic statistics of the dataframe's numerical\n",
    "   columns\n",
    "3) head: displays the first five rows of the dataset\n",
    "4) tail: displays the last five rows of the dataset\n",
    "'''\n",
    "# Change False to True to see these functions in action\n",
    "if True:\n",
    "    data = {'year': [2010, 2011, 2012, 2011, 2012, 2010, 2011, 2012],\n",
    "            'team': ['Bears', 'Bears', 'Bears', 'Packers', 'Packers', 'Lions',\n",
    "                     'Lions', 'Lions'],\n",
    "            'wins': [11, 8, 10, 15, 11, 6, 10, 4],\n",
    "            'losses': [5, 8, 6, 1, 5, 10, 6, 12]}\n",
    "    football = pd.DataFrame(data)\n",
    "    print (football.dtypes)\n",
    "    print ('\\n')\n",
    "    # Generate descriptive statistics \n",
    "    # https://pandas.pydata.org/pandas-docs/stable/reference/api/pandas.DataFrame.describe.html\n",
    "    print (football.describe()) \n",
    "    print ('\\n')\n",
    "    print (football.head())\n",
    "    print ('\\n')\n",
    "    print (football.tail())"
   ]
  },
  {
   "cell_type": "code",
   "execution_count": 30,
   "metadata": {},
   "outputs": [
    {
     "name": "stdout",
     "output_type": "stream",
     "text": [
      "Instructor                 Dave\n",
      "Curriculum Manager    Cheng-Han\n",
      "Course Number               359\n",
      "Power Level                9001\n",
      "dtype: object\n",
      "Dave\n",
      "\n",
      "Instructor                 Dave\n",
      "Curriculum Manager    Cheng-Han\n",
      "Course Number               359\n",
      "dtype: object\n",
      "Cockroach    False\n",
      "Fish         False\n",
      "Mini Pig     False\n",
      "Puppy         True\n",
      "Kitten        True\n",
      "dtype: bool\n",
      "\n",
      "Puppy     4\n",
      "Kitten    5\n",
      "dtype: int64\n"
     ]
    }
   ],
   "source": [
    "import pandas as pd\n",
    "\n",
    "'''\n",
    "The following code is to help you play with the concept of Series in Pandas.\n",
    "\n",
    "You can think of Series as an one-dimensional object that is similar to\n",
    "an array, list, or column in a database. By default, it will assign an\n",
    "index label to each item in the Series ranging from 0 to N, where N is\n",
    "the number of items in the Series minus one.\n",
    "\n",
    "Please feel free to play around with the concept of Series and see what it does\n",
    "\n",
    "*This playground is inspired by Greg Reda's post on Intro to Pandas Data Structures:\n",
    "http://www.gregreda.com/2013/10/26/intro-to-pandas-data-structures/\n",
    "'''\n",
    "# Change False to True to create a Series object\n",
    "if False:\n",
    "    series = pd.Series(['Dave', 'Cheng-Han', 'Udacity', 42, -1789710578])\n",
    "    print (series)\n",
    "\n",
    "'''\n",
    "You can also manually assign indices to the items in the Series when\n",
    "creating the series\n",
    "'''\n",
    "\n",
    "# Change False to True to see custom index in action\n",
    "if True:\n",
    "    series = pd.Series(['Dave', 'Cheng-Han', 359, 9001],\n",
    "                       index=['Instructor', 'Curriculum Manager', 'Course Number', 'Power Level'])\n",
    "    print (series)\n",
    "\n",
    "'''\n",
    "You can use index to select specific items from the Series\n",
    "'''\n",
    "# Change False to True to see Series indexing in action\n",
    "if True:\n",
    "    series = pd.Series(['Dave', 'Cheng-Han', 359, 9001],\n",
    "                       index=['Instructor', 'Curriculum Manager',\n",
    "                              'Course Number', 'Power Level'])\n",
    "    print (series['Instructor'])\n",
    "    print (\"\")\n",
    "    print (series[['Instructor', 'Curriculum Manager', 'Course Number']])\n",
    "\n",
    "'''\n",
    "You can also use boolean operators to select specific items from the Series\n",
    "'''\n",
    "# Change False to True to see boolean indexing in action\n",
    "if True:\n",
    "    cuteness = pd.Series([1, 2, 3, 4, 5], index=['Cockroach', 'Fish', 'Mini Pig',\n",
    "                                                 'Puppy', 'Kitten'])\n",
    "    print (cuteness > 3)\n",
    "    print (\"\")\n",
    "    print (cuteness[cuteness > 3])"
   ]
  },
  {
   "cell_type": "code",
   "execution_count": null,
   "metadata": {},
   "outputs": [],
   "source": []
  }
 ],
 "metadata": {
  "kernelspec": {
   "display_name": "Python 3",
   "language": "python",
   "name": "python3"
  },
  "language_info": {
   "codemirror_mode": {
    "name": "ipython",
    "version": 3
   },
   "file_extension": ".py",
   "mimetype": "text/x-python",
   "name": "python",
   "nbconvert_exporter": "python",
   "pygments_lexer": "ipython3",
   "version": "3.6.4"
  }
 },
 "nbformat": 4,
 "nbformat_minor": 2
}
