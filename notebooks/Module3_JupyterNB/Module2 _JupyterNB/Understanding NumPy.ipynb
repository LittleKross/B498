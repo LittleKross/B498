{
 "cells": [
  {
   "cell_type": "markdown",
   "metadata": {},
   "source": [
    "# # Introduction to NumPy\n",
    "We discuss techniques for effectively loading, storing, and manipulating in-memory data in Python.\n",
    "Despite apparent heterogeneity (different range of formats) of data, it will help us to think of all data fundamentally as arrays of numbers."
   ]
  },
  {
   "cell_type": "markdown",
   "metadata": {},
   "source": [
    "NumPy (short for Numerical Python) provides an efficient interface to store and operate on dense data buffers. In some ways, NumPy arrays are like Python's built-in list type, but NumPy arrays provide much more efficient storage and data operations as the arrays grow larger in size. "
   ]
  },
  {
   "cell_type": "code",
   "execution_count": 1,
   "metadata": {},
   "outputs": [
    {
     "data": {
      "text/plain": [
       "'1.14.0'"
      ]
     },
     "execution_count": 1,
     "metadata": {},
     "output_type": "execute_result"
    }
   ],
   "source": [
    "# You should have this already available through Anaconda\n",
    "import numpy \n",
    "numpy.__version__"
   ]
  },
  {
   "cell_type": "code",
   "execution_count": 7,
   "metadata": {},
   "outputs": [],
   "source": [
    "#import NumPy using np as an alias and output documentation\n",
    "import numpy as np\n",
    "np?"
   ]
  },
  {
   "cell_type": "markdown",
   "metadata": {},
   "source": [
    "Python offers several different options for storing data in efficient, fixed-type data buffers. The built-in array module (available since Python 3.3) can be used to create dense arrays of a uniform type:"
   ]
  },
  {
   "cell_type": "code",
   "execution_count": 11,
   "metadata": {},
   "outputs": [
    {
     "data": {
      "text/plain": [
       "array('i', [0, 1, 2, 3, 4, 5, 6, 7, 8, 9])"
      ]
     },
     "execution_count": 11,
     "metadata": {},
     "output_type": "execute_result"
    }
   ],
   "source": [
    "import array\n",
    "L = list(range(10))\n",
    "A = array.array('i', L)\n",
    "#print(A)\n",
    "A"
   ]
  },
  {
   "cell_type": "markdown",
   "metadata": {},
   "source": [
    "While Python's array object provides efficient storage of array-based data, NumPy adds to this efficient operations on that data."
   ]
  },
  {
   "cell_type": "code",
   "execution_count": 13,
   "metadata": {},
   "outputs": [
    {
     "data": {
      "text/plain": [
       "array([1, 4, 2, 5, 3])"
      ]
     },
     "execution_count": 13,
     "metadata": {},
     "output_type": "execute_result"
    }
   ],
   "source": [
    "import numpy as np\n",
    "# integer array:\n",
    "np.array([1, 4, 2, 5, 3])"
   ]
  },
  {
   "cell_type": "code",
   "execution_count": 14,
   "metadata": {},
   "outputs": [
    {
     "data": {
      "text/plain": [
       "array([3.14, 4.  , 2.  , 3.  ])"
      ]
     },
     "execution_count": 14,
     "metadata": {},
     "output_type": "execute_result"
    }
   ],
   "source": [
    "import numpy as np\n",
    "#upcaste to floating point numbers\n",
    "np.array([3.14, 4, 2, 3])"
   ]
  },
  {
   "cell_type": "code",
   "execution_count": 15,
   "metadata": {},
   "outputs": [
    {
     "data": {
      "text/plain": [
       "array([[2, 3, 4],\n",
       "       [4, 5, 6],\n",
       "       [6, 7, 8]])"
      ]
     },
     "execution_count": 15,
     "metadata": {},
     "output_type": "execute_result"
    }
   ],
   "source": [
    "import numpy as np\n",
    "# nested lists result in multi-dimensional arrays\n",
    "np.array([range(i, i + 3) for i in [2, 4, 6]])"
   ]
  },
  {
   "cell_type": "code",
   "execution_count": 16,
   "metadata": {},
   "outputs": [
    {
     "data": {
      "text/plain": [
       "array([[0.28117216, 0.76799987, 0.36732274],\n",
       "       [0.38403858, 0.54513874, 0.35955431],\n",
       "       [0.41318414, 0.31666455, 0.9456578 ]])"
      ]
     },
     "execution_count": 16,
     "metadata": {},
     "output_type": "execute_result"
    }
   ],
   "source": [
    "# Create a 3x3 array of uniformly distributed\n",
    "# random values between 0 and 1\n",
    "np.random.random((3, 3))"
   ]
  },
  {
   "cell_type": "code",
   "execution_count": 17,
   "metadata": {},
   "outputs": [
    {
     "data": {
      "text/plain": [
       "array([[ 0.32548092,  0.25536068, -0.24204799],\n",
       "       [ 0.12739611,  0.17707865,  0.17733738],\n",
       "       [-1.07840374,  0.79341387, -1.82077558]])"
      ]
     },
     "execution_count": 17,
     "metadata": {},
     "output_type": "execute_result"
    }
   ],
   "source": [
    "# Create a 3x3 array of normally distributed random values\n",
    "# with mean 0 and standard deviation 1\n",
    "np.random.normal(0, 1, (3, 3))"
   ]
  },
  {
   "cell_type": "code",
   "execution_count": 50,
   "metadata": {},
   "outputs": [
    {
     "name": "stdout",
     "output_type": "stream",
     "text": [
      "x3 ndim:  3\n",
      "x3 shape: (3, 4, 5)\n",
      "x3 size:  60\n",
      "dtype: int64\n",
      "\n",
      "---x1----\n",
      " [5 0 3 3 7 9]\n",
      "\n",
      "---x2----\n",
      " [[3 5 2 4]\n",
      " [7 6 8 8]\n",
      " [1 6 7 7]]\n",
      "\n",
      "---x3----\n",
      " [[[8 1 5 9 8]\n",
      "  [9 4 3 0 3]\n",
      "  [5 0 2 3 8]\n",
      "  [1 3 3 3 7]]\n",
      "\n",
      " [[0 1 9 9 0]\n",
      "  [4 7 3 2 7]\n",
      "  [2 0 0 4 5]\n",
      "  [5 6 8 4 1]]\n",
      "\n",
      " [[4 9 8 1 1]\n",
      "  [7 9 9 3 6]\n",
      "  [7 2 0 3 5]\n",
      "  [9 4 4 6 4]]]\n",
      "\n",
      " first 3 elements of x1: [5 0 3]\n",
      "\n",
      " first column of x2:  [3 7 1]\n",
      "\n",
      " all rows, every other column of x2:\n",
      " [[3 2]\n",
      " [7 8]\n",
      " [1 7]]\n",
      "\n",
      " 2×2  subarray from x2 \n",
      " [[3 5]\n",
      " [7 6]]\n",
      "\n",
      " 2×2  subarray from x2 using copy method\n",
      " [[3 5]\n",
      " [7 6]]\n",
      "\n",
      " relace an element of a copy\n",
      " [[42  5]\n",
      " [ 7  6]]\n"
     ]
    }
   ],
   "source": [
    "'''\n",
    "Discuss some useful array attributes. We'll start by defining three random arrays, \n",
    "a one-dimensional, two-dimensional, and three-dimensional array. \n",
    "Each array has attributes ndim (the number of dimensions), shape (the size of each dimension), \n",
    "size (the total size of the array), and data type.\n",
    "Then we demonstrate some manipulations, see comments.\n",
    "'''\n",
    "import numpy as np\n",
    "np.random.seed(0)  # seed for reproducibility\n",
    "\n",
    "x1 = np.random.randint(10, size=6)  # One-dimensional array\n",
    "x2 = np.random.randint(10, size=(3, 4))  # Two-dimensional array\n",
    "x3 = np.random.randint(10, size=(3, 4, 5))  # Three-dimensional array\n",
    "\n",
    "print(\"x3 ndim: \", x3.ndim)\n",
    "print(\"x3 shape:\", x3.shape)\n",
    "print(\"x3 size: \", x3.size)\n",
    "print(\"dtype:\", x3.dtype)\n",
    "print('\\n---x1----\\n',x1)\n",
    "print('\\n---x2----\\n',x2)\n",
    "print('\\n---x3----\\n',x3)\n",
    "\n",
    "print('\\n first 3 elements of x1:',x1[:3])  # first three elements\n",
    "print('\\n first column of x2: ',x2[:, 0])  # first column of x2\n",
    "print('\\n all rows, every other column of x2:\\n' ,x2[:3, ::2])  # all rows, every other column\n",
    "x2_sub = x2[:2, :2] # extract a 2×2  subarray from x2\n",
    "print('\\n 2×2  subarray from x2 \\n',x2_sub)\n",
    "\n",
    "#can copy arrays using copy() method\n",
    "x2_sub_copy = x2[:2, :2].copy()\n",
    "print('\\n 2×2  subarray from x2 using copy method\\n', x2_sub_copy)\n",
    "\n",
    "x2_sub_copy[0, 0] = 42\n",
    "print('\\n relace an element of a copy\\n',x2_sub_copy)"
   ]
  },
  {
   "cell_type": "markdown",
   "metadata": {},
   "source": [
    "Imagine that we have several categories of data on a number of people (say, name, age, and weight), and we'd like to store these values for use in a Python program. It would be possible to store these in three separate arrays\n"
   ]
  },
  {
   "cell_type": "code",
   "execution_count": 53,
   "metadata": {},
   "outputs": [],
   "source": [
    "import numpy as np"
   ]
  },
  {
   "cell_type": "code",
   "execution_count": 54,
   "metadata": {},
   "outputs": [],
   "source": [
    "name = ['Alice', 'Bob', 'Cathy', 'Doug']\n",
    "age = [25, 45, 37, 19]\n",
    "weight = [55.0, 85.5, 68.0, 61.5]\n",
    "#Clumsy!!!"
   ]
  },
  {
   "cell_type": "markdown",
   "metadata": {},
   "source": [
    "We can create a structured array using a compound data type specification"
   ]
  },
  {
   "cell_type": "code",
   "execution_count": 55,
   "metadata": {},
   "outputs": [
    {
     "name": "stdout",
     "output_type": "stream",
     "text": [
      "[('name', '<U10'), ('age', '<i4'), ('weight', '<f8')]\n"
     ]
    }
   ],
   "source": [
    "# Use a compound data type for structured arrays\n",
    "data = np.zeros(4, dtype={'names':('name', 'age', 'weight'),\n",
    "                          'formats':('U10', 'i4', 'f8')})\n",
    "print(data.dtype)"
   ]
  },
  {
   "cell_type": "markdown",
   "metadata": {},
   "source": [
    "Here 'U10' translates to \"Unicode string of maximum length 10,\" 'i4' translates to \"4-byte (i.e., 32 bit) integer,\" and 'f8' translates to \"8-byte (i.e., 64 bit) float."
   ]
  },
  {
   "cell_type": "code",
   "execution_count": 56,
   "metadata": {},
   "outputs": [
    {
     "name": "stdout",
     "output_type": "stream",
     "text": [
      "[('Alice', 25, 55. ) ('Bob', 45, 85.5) ('Cathy', 37, 68. )\n",
      " ('Doug', 19, 61.5)]\n"
     ]
    }
   ],
   "source": [
    "data['name'] = name\n",
    "data['age'] = age\n",
    "data['weight'] = weight\n",
    "print(data)"
   ]
  },
  {
   "cell_type": "markdown",
   "metadata": {},
   "source": [
    "This stuff is still clumsy!!! We need something more concise and user friendly. Hence Pandas!!"
   ]
  }
 ],
 "metadata": {
  "kernelspec": {
   "display_name": "Python 3",
   "language": "python",
   "name": "python3"
  },
  "language_info": {
   "codemirror_mode": {
    "name": "ipython",
    "version": 3
   },
   "file_extension": ".py",
   "mimetype": "text/x-python",
   "name": "python",
   "nbconvert_exporter": "python",
   "pygments_lexer": "ipython3",
   "version": "3.7.6"
  }
 },
 "nbformat": 4,
 "nbformat_minor": 2
}
