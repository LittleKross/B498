{
 "cells": [
  {
   "cell_type": "markdown",
   "metadata": {},
   "source": [
    "## Linear Regression\n",
    "\n",
    "* Basis of many more recent and complex learning methods\n",
    "* Quantitative response as a linear function of one or more predictors\n",
    "    - Linear function:\n",
    "        - f(a + b) = f(a) + f(b)\n",
    "        - f(ca) = cf(a)\n",
    "* Explain the relationship between response and predictor(s)? \n",
    "* Simple Linear Regression\n",
    "    - One quantitative predictor\n",
    "* Multivariate Regression\n",
    "    - Two or more predictors\n",
    "    - Quantitative or categorical predictors\n"
   ]
  },
  {
   "cell_type": "markdown",
   "metadata": {},
   "source": [
    "\n",
    "### Simple Linear Regression\n",
    "\n",
    "* Dependent variable (response, outcome variable) y is a function of a single independent (feature, predictor) variable x\n",
    "* y = mx + b, where m is the slope and b is the intercept\n",
    "    - $y,x,b \\in R$\n",
    "* Does y increase or decrease as x increases or decreases and by how much?\n"
   ]
  },
  {
   "cell_type": "code",
   "execution_count": 14,
   "metadata": {},
   "outputs": [],
   "source": [
    "import numpy as np\n",
    "import scipy.stats as stats\n",
    "import pandas as pd\n",
    "import matplotlib.pyplot as plt\n",
    "import seaborn as sns\n",
    "%matplotlib inline"
   ]
  },
  {
   "cell_type": "code",
   "execution_count": 15,
   "metadata": {},
   "outputs": [
    {
     "data": {
      "text/html": [
       "<div>\n",
       "<style scoped>\n",
       "    .dataframe tbody tr th:only-of-type {\n",
       "        vertical-align: middle;\n",
       "    }\n",
       "\n",
       "    .dataframe tbody tr th {\n",
       "        vertical-align: top;\n",
       "    }\n",
       "\n",
       "    .dataframe thead th {\n",
       "        text-align: right;\n",
       "    }\n",
       "</style>\n",
       "<table border=\"1\" class=\"dataframe\">\n",
       "  <thead>\n",
       "    <tr style=\"text-align: right;\">\n",
       "      <th></th>\n",
       "      <th>speed</th>\n",
       "      <th>dist</th>\n",
       "    </tr>\n",
       "  </thead>\n",
       "  <tbody>\n",
       "    <tr>\n",
       "      <td>45</td>\n",
       "      <td>24</td>\n",
       "      <td>70</td>\n",
       "    </tr>\n",
       "    <tr>\n",
       "      <td>46</td>\n",
       "      <td>24</td>\n",
       "      <td>92</td>\n",
       "    </tr>\n",
       "    <tr>\n",
       "      <td>47</td>\n",
       "      <td>24</td>\n",
       "      <td>93</td>\n",
       "    </tr>\n",
       "    <tr>\n",
       "      <td>48</td>\n",
       "      <td>24</td>\n",
       "      <td>120</td>\n",
       "    </tr>\n",
       "    <tr>\n",
       "      <td>49</td>\n",
       "      <td>25</td>\n",
       "      <td>85</td>\n",
       "    </tr>\n",
       "  </tbody>\n",
       "</table>\n",
       "</div>"
      ],
      "text/plain": [
       "    speed  dist\n",
       "45     24    70\n",
       "46     24    92\n",
       "47     24    93\n",
       "48     24   120\n",
       "49     25    85"
      ]
     },
     "execution_count": 15,
     "metadata": {},
     "output_type": "execute_result"
    }
   ],
   "source": [
    "cars = pd.read_csv('cars.csv')\n",
    "cars.tail()\n",
    "#\n",
    "# dist is the distance required for the car to stop as a function of the speed of the car"
   ]
  },
  {
   "cell_type": "markdown",
   "metadata": {},
   "source": [
    "#### Plot relationship"
   ]
  },
  {
   "cell_type": "code",
   "execution_count": 3,
   "metadata": {},
   "outputs": [
    {
     "data": {
      "text/plain": [
       "Text(0, 0.5, 'Distance')"
      ]
     },
     "execution_count": 3,
     "metadata": {},
     "output_type": "execute_result"
    },
    {
     "data": {
      "image/png": "[encoded data removed]",
      "text/plain": [
       "<Figure size 432x288 with 1 Axes>"
      ]
     },
     "metadata": {
      "needs_background": "light"
     },
     "output_type": "display_data"
    }
   ],
   "source": [
    "plt.scatter(cars.speed, cars.dist, color = 'red')\n",
    "plt.title('Distance vs Speed')\n",
    "plt.xlabel('Speed')\n",
    "plt.ylabel('Distance')"
   ]
  },
  {
   "cell_type": "markdown",
   "metadata": {},
   "source": [
    "### Hypothesis about relationship in population\n",
    "\n",
    "#### Linear Model\n",
    "\n",
    "* Dependent variable y (distance) is a linear function of the independent variable x (speed)\n",
    "\n",
    "<div style=\"font-size: 125%;\">\n",
    "$$ y = b_0 + b_1*x$$\n",
    "</div>\n",
    "\n",
    "y is the dependent variable  \n",
    "x is the independent variable  \n",
    "$b_0$ is the intercept  \n",
    "$b_1$ is the slope\n",
    "\n",
    "* In nature no relationship is perfectly linear,so\n",
    "\n",
    "<div style=\"font-size: 125%;\">\n",
    "$$ y = b_0 + b_1*x + \\epsilon$$\n",
    "</div>\n",
    "\n",
    "$\\epsilon$ is the error term\n"
   ]
  },
  {
   "cell_type": "markdown",
   "metadata": {},
   "source": [
    "### What is best fitting line?\n",
    "\n",
    "* The line with the smallest error\n",
    "* We want to fit the linear regression model to the data, to estimate the values of the coefficients that minimizes the error\n",
    "\n",
    "<div style=\"font-size: 125%;\">\n",
    "$$\\hat{y_i} = \\hat{b}_0 + \\hat{b}_1x_i$$\n",
    "</div>\n",
    "\n",
    "* $x_i$ is the ith value of the predictor\n",
    "* $\\hat{y_i}$ is the predicted response (or fitted value) for observation i\n",
    "* $\\hat{b}_0$ is an estimate of the intercept\n",
    "* $\\hat{b}_1$ is an estimate of the slope\n",
    "\n"
   ]
  },
  {
   "cell_type": "markdown",
   "metadata": {},
   "source": [
    "#### sklearn.LinearRegression\n",
    "\n",
    "http://scikit-learn.org/stable/modules/generated/sklearn.linear_model.LinearRegression.html"
   ]
  },
  {
   "cell_type": "markdown",
   "metadata": {},
   "source": [
    "#### Create arrays from data frame"
   ]
  },
  {
   "cell_type": "code",
   "execution_count": 16,
   "metadata": {},
   "outputs": [],
   "source": [
    "X = cars.speed\n",
    "y = cars.dist.values\n",
    "X = X.values.reshape(50,1)"
   ]
  },
  {
   "cell_type": "markdown",
   "metadata": {},
   "source": [
    "#### Create linear model and fit to data"
   ]
  },
  {
   "cell_type": "code",
   "execution_count": 17,
   "metadata": {},
   "outputs": [
    {
     "name": "stdout",
     "output_type": "stream",
     "text": [
      "Intercept: -17.57909489051095 Slope: 3.9324087591240873 \n"
     ]
    }
   ],
   "source": [
    "from sklearn.linear_model import LinearRegression\n",
    "model = LinearRegression()\n",
    "model.fit(X, y)\n",
    "print(f'Intercept: {model.intercept_} Slope: {model.coef_[0]} ') # output is b0 and b1"
   ]
  },
  {
   "cell_type": "markdown",
   "metadata": {},
   "source": [
    "#### Predict new points"
   ]
  },
  {
   "cell_type": "code",
   "execution_count": 18,
   "metadata": {},
   "outputs": [
    {
     "data": {
      "text/plain": [
       "array([35.50842336, 65.00148905])"
      ]
     },
     "execution_count": 18,
     "metadata": {},
     "output_type": "execute_result"
    }
   ],
   "source": [
    "new = np.array([13.5,21]) # two x values \n",
    "predictions = model.predict(new.reshape(-1,1)) # Model fitted to 2-d array\n",
    "predictions # given b0 and b1, what is y(distance) for the two new x values"
   ]
  },
  {
   "cell_type": "code",
   "execution_count": 19,
   "metadata": {},
   "outputs": [
    {
     "data": {
      "text/plain": [
       "Text(0, 0.5, 'Distance')"
      ]
     },
     "execution_count": 19,
     "metadata": {},
     "output_type": "execute_result"
    },
    {
     "data": {
      "image/png": "[encoded data removed]",
      "text/plain": [
       "<Figure size 432x288 with 1 Axes>"
      ]
     },
     "metadata": {
      "needs_background": "light"
     },
     "output_type": "display_data"
    }
   ],
   "source": [
    "# plot all data points with the two new values\n",
    "plt.scatter(X, y, color = 'red')\n",
    "plt.plot(new,predictions,'bo')\n",
    "plt.title(f'Predict {new}')\n",
    "plt.xlabel('Speed')\n",
    "plt.ylabel('Distance')"
   ]
  },
  {
   "cell_type": "markdown",
   "metadata": {},
   "source": [
    "#### Residuals: Difference between actual response value $y_i$ and fitted value $\\hat{y}$\n",
    "\n",
    "<div style=\"font-size: 125%;\">\n",
    "$$e_i = y_i - \\hat{y_i}$$\n",
    "</div> \n",
    "\n",
    "* Best fitting line is one that makes this prediction error \"as small as possible\" \n",
    "* One way is to minimize the sum of the squared prediction errors: Orindary Least Squares method \n",
    "* Find $b_0$ and $b_1$ that minimizes \n",
    "\n",
    "<div style=\"font-size: 125%;\">\n",
    "$$RSS = \\sum{e^2_i} = \\sum{(y_i - \\hat{y_i})^2} = \\sum{(y_i - b_0 + b_1x_i)^2}$$\n",
    "</div>\n",
    "\n",
    " * RSS is called the Residual Sum of Squares"
   ]
  },
  {
   "cell_type": "markdown",
   "metadata": {},
   "source": [
    "#### Predict each value of independent variable using fitted model"
   ]
  },
  {
   "cell_type": "code",
   "execution_count": 20,
   "metadata": {},
   "outputs": [],
   "source": [
    "yhat = model.predict(X) # find fitted values by the model for all the actual X values "
   ]
  },
  {
   "cell_type": "code",
   "execution_count": 21,
   "metadata": {},
   "outputs": [
    {
     "data": {
      "text/plain": [
       "Text(0, 0.5, 'Distance')"
      ]
     },
     "execution_count": 21,
     "metadata": {},
     "output_type": "execute_result"
    },
    {
     "data": {
      "image/png": "[encoded data removed]",
      "text/plain": [
       "<Figure size 432x288 with 1 Axes>"
      ]
     },
     "metadata": {
      "needs_background": "light"
     },
     "output_type": "display_data"
    }
   ],
   "source": [
    "# plot all the fitted values in blue and actual values in red. two blue dots are the new x values we added later\n",
    "plt.scatter(X, y, color = 'red')\n",
    "plt.plot(X, yhat, color = 'blue')\n",
    "plt.plot(new,predictions,'bo')\n",
    "plt.title('Best Fitting Line')\n",
    "plt.xlabel('Speed')\n",
    "plt.ylabel('Distance')"
   ]
  },
  {
   "cell_type": "markdown",
   "metadata": {},
   "source": [
    "#### Plot Residuals"
   ]
  },
  {
   "cell_type": "code",
   "execution_count": 22,
   "metadata": {},
   "outputs": [
    {
     "data": {
      "image/png": "[encoded data removed]",
      "text/plain": [
       "<Figure size 432x288 with 1 Axes>"
      ]
     },
     "metadata": {
      "needs_background": "light"
     },
     "output_type": "display_data"
    }
   ],
   "source": [
    "# show residuals, this is the error between actual and predicted\n",
    "plt.scatter(X, y, color = 'red')\n",
    "plt.plot(X, yhat, color = 'blue')\n",
    "plt.title('Residuals')\n",
    "plt.xlabel('Speed')\n",
    "plt.ylabel('Distance')\n",
    "for i in range(len(yhat)):\n",
    "    x1 = X[i]\n",
    "    x2 = x1\n",
    "    y1 = yhat[i]\n",
    "    y2 = y[i]\n",
    "    plt.plot([x1,x2],[y1,y2],'g-')\n",
    "plt.show()"
   ]
  },
  {
   "cell_type": "markdown",
   "metadata": {},
   "source": [
    "##### Why squared error?\n",
    " \n",
    "* Distance measure\n",
    "* Smooth function, differentable\n",
    "\n",
    "#### Least squares estimate for the coefficients $b_0$ and $b_1$\n",
    " \n",
    "* Take the partial derivative with respect to $b_1$, set it to 0 and solve for $b_1$\n",
    "\n",
    "<div style=\"font-size: 125%;\">\n",
    "\n",
    "$$\\frac{\\partial(RSS)}{\\partial(b_1)} = 0$$$$b_1 = \\frac{\\sum^n_{i=1}(x_i-\\bar{x})(y_i-\\bar{y})}{\\sum^n_{i=1}(x_i-\\bar{x})^2}$$\n",
    "\n",
    "$$b_0 = \\bar{y} - b_1\\bar{x}$$\n",
    "</div>\n",
    "\n",
    "$\\bar{x}$ - mean of x  \n",
    "$\\bar{y}$ - mean of y"
   ]
  },
  {
   "cell_type": "markdown",
   "metadata": {},
   "source": [
    "### Interpreting the coefficients\n",
    " \n",
    "* $b_0$: the value of the response when the predictor is equal to 0\n",
    "* $b_1$: the amount(in $b_1$ units) that the mean response will increase or decrease by for every one unit increase in x.\n",
    "\n",
    "#### What to $b_0$ and $b_1$ estimate?\n",
    "\n",
    "* Population Mean\n",
    "* Will get a different estimate with a different sample\n"
   ]
  },
  {
   "cell_type": "markdown",
   "metadata": {},
   "source": [
    "### Assumptions of Least Squares\n",
    " \n",
    "* **Linear** relationship between response and predictor variables\n",
    "* Error terms are **Independent**\n",
    "* The error term is **Normally distributed** $N(0,\\sigma^2)$\n",
    "* Homoscedasticity: **Equal** variance of the error term\n",
    "* Under these assumptions, the Method of Least Squares is the Maximum Likelihood Estimate (MLE)\n",
    "\n",
    "\n",
    " #### Maximum Likelihood Estimates\n",
    "<div style=\"font-size: 125%;\"> \n",
    "$$P(Data | \\hat{\\beta}_0,\\hat{\\beta}_1)$$\n",
    "</div>\n",
    "* Method for computing the \"best\" parameter estimates from the data\n",
    "* Given the data and the linear model, find $b_0 = \\hat{\\beta}_0$ and $b_1 = \\hat{\\beta}_1$ that make the data most likely\n",
    "    "
   ]
  },
  {
   "cell_type": "markdown",
   "metadata": {},
   "source": [
    "### Accessing the accuracy of the model\n",
    "\n",
    " * Goodness of fit"
   ]
  },
  {
   "cell_type": "markdown",
   "metadata": {},
   "source": [
    "####  R-squared (coefficient of determination) \n",
    " \n",
    "* Fraction of the total variance in y explained by the total variation in x\n",
    "* A number between 0 and 1 (i.e. independent of the scale of Y)\n",
    "* $R^2$ close to 1 means a large proportion of the variance in the response is explained by the regression\n",
    "* $R^2$ close to 0 means that not much of the variance is explained: wrong model, inherently high variance or both \n",
    "* Residual Sum of Squares (RSS): squared difference of actual response value and fitted values\n",
    "* Total Sum of Squares (TSS): squared difference of actual response value and mean response value.\n",
    "\n",
    "<div style=\"font-size: 125%;\"> \n",
    "$$R^2 = \\frac{TSS - RSS}{RSS} = 1 - \\frac{RSS}{TSS}$$\n",
    "$$TSS = \\sum^n_{i=1}(y_i-\\bar{y})^2$$\n",
    "</div>"
   ]
  },
  {
   "cell_type": "markdown",
   "metadata": {},
   "source": [
    "The functions below shows how to compute RSS, $R^2$, and TSS without calling sklearn functions.  "
   ]
  },
  {
   "cell_type": "code",
   "execution_count": 23,
   "metadata": {},
   "outputs": [],
   "source": [
    "# this defines Residual Sum of Squares (RSS)\n",
    "def rss(y,yhat):\n",
    "    return(np.sum((y - yhat)**2))"
   ]
  },
  {
   "cell_type": "code",
   "execution_count": 24,
   "metadata": {},
   "outputs": [
    {
     "data": {
      "text/plain": [
       "0.6510793807582509"
      ]
     },
     "execution_count": 24,
     "metadata": {},
     "output_type": "execute_result"
    }
   ],
   "source": [
    "# this defines Total Sum of Squares (TSS)\n",
    "def tss(y):\n",
    "    return(np.sum((y - np.mean(y))**2))\n",
    "\n",
    "# this defines coefficient of determination)\n",
    "def R_squared(y,yhat):\n",
    "    return(1 - (rss(y,yhat)/tss(y)))\n",
    "\n",
    "R_squared(y,yhat)"
   ]
  },
  {
   "cell_type": "markdown",
   "metadata": {},
   "source": [
    "#### R-squared from model - Compute the $R^2$ for our model"
   ]
  },
  {
   "cell_type": "code",
   "execution_count": 15,
   "metadata": {},
   "outputs": [
    {
     "data": {
      "text/plain": [
       "0.6510793807582509"
      ]
     },
     "execution_count": 15,
     "metadata": {},
     "output_type": "execute_result"
    }
   ],
   "source": [
    "model.score(X,y) # call the standard function that returns the coefficient of determination R^2 of the prediction.\n",
    "# output matches with our previous calculation. "
   ]
  },
  {
   "cell_type": "markdown",
   "metadata": {},
   "source": [
    "* For a single predictor, R-squared is equal to Pearson's Correlation squared\n",
    "<div style=\"font-size: 125%;\"> \n",
    "$$R^2 = r^2$$\n",
    "</div> "
   ]
  },
  {
   "cell_type": "code",
   "execution_count": 25,
   "metadata": {},
   "outputs": [
    {
     "data": {
      "text/plain": [
       "0.651079380758251"
      ]
     },
     "execution_count": 25,
     "metadata": {},
     "output_type": "execute_result"
    }
   ],
   "source": [
    "r = stats.pearsonr(X[:,0],y)[0]\n",
    "r**2\n",
    "# another way to find R^2, but only works when you have single predictor, just one dependent variable "
   ]
  },
  {
   "cell_type": "markdown",
   "metadata": {},
   "source": [
    "#### Mean Squared Error\n",
    "\n",
    "* The average of the squared error (i.e. residuals)\n",
    "\n",
    "$$MSE = \\frac{1}{n}\\sum(y - \\hat{y})^2$$\n",
    "\n",
    "* Root Mean Squared Error\n",
    "    - Same unit as response variable\n",
    "\n",
    "$$RMSE = \\sqrt{\\frac{1}{n}\\sum(y - \\hat{y})^2}$$\n",
    "\n",
    "The mean squared error tells you how close a regression line is to a set of points. It does this by taking the distances from the points to the regression line (these distances are the “errors”) and squaring them. The squaring is necessary to remove any negative signs. It also gives more weight to larger differences. It’s called the mean squared error as you’re finding the average of a set of errors. \n",
    "\n",
    "The smaller the means squared error, the closer you are to finding the line of best fit. Depending on your data, it may be impossible to get a very small value for the mean squared error. \n",
    "\n",
    "https://www.statisticshowto.com/mean-squared-error/"
   ]
  },
  {
   "cell_type": "code",
   "execution_count": 26,
   "metadata": {},
   "outputs": [],
   "source": [
    "def mse(y,yhat):\n",
    "    return np.mean((y - yhat)**2)\n",
    "\n",
    "def rmse(y,yhat):\n",
    "    return np.sqrt(np.mean((y - yhat)**2))"
   ]
  },
  {
   "cell_type": "code",
   "execution_count": 32,
   "metadata": {},
   "outputs": [
    {
     "name": "stdout",
     "output_type": "stream",
     "text": [
      "227.07042102189777\n",
      "15.068855995791377\n"
     ]
    }
   ],
   "source": [
    "# compute and output using our own functions\n",
    "print(mse(y,yhat))\n",
    "print(rmse(y, yhat))\n"
   ]
  },
  {
   "cell_type": "code",
   "execution_count": 29,
   "metadata": {},
   "outputs": [
    {
     "data": {
      "text/plain": [
       "227.07042102189777"
      ]
     },
     "execution_count": 29,
     "metadata": {},
     "output_type": "execute_result"
    }
   ],
   "source": [
    "# compute and output using sklearn function \n",
    "from sklearn.metrics import mean_squared_error\n",
    "mean_squared_error(y, yhat)\n",
    "# http://statweb.stanford.edu/~susan/courses/s60/split/node60.html"
   ]
  },
  {
   "cell_type": "markdown",
   "metadata": {},
   "source": [
    "Well, probably not a good fit! "
   ]
  }
 ],
 "metadata": {
  "kernelspec": {
   "display_name": "Python 3",
   "language": "python",
   "name": "python3"
  },
  "language_info": {
   "codemirror_mode": {
    "name": "ipython",
    "version": 3
   },
   "file_extension": ".py",
   "mimetype": "text/x-python",
   "name": "python",
   "nbconvert_exporter": "python",
   "pygments_lexer": "ipython3",
   "version": "3.7.4"
  },
  "varInspector": {
   "cols": {
    "lenName": 16,
    "lenType": 16,
    "lenVar": 40
   },
   "kernels_config": {
    "python": {
     "delete_cmd_postfix": "",
     "delete_cmd_prefix": "del ",
     "library": "var_list.py",
     "varRefreshCmd": "print(var_dic_list())"
    },
    "r": {
     "delete_cmd_postfix": ") ",
     "delete_cmd_prefix": "rm(",
     "library": "var_list.r",
     "varRefreshCmd": "cat(var_dic_list()) "
    }
   },
   "position": {
    "height": "144px",
    "left": "936px",
    "right": "20px",
    "top": "96px",
    "width": "350px"
   },
   "types_to_exclude": [
    "module",
    "function",
    "builtin_function_or_method",
    "instance",
    "_Feature"
   ],
   "window_display": false
  }
 },
 "nbformat": 4,
 "nbformat_minor": 2
}
