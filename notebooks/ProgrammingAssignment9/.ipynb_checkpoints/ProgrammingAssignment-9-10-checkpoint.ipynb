{
 "cells": [
  {
   "cell_type": "markdown",
   "metadata": {},
   "source": [
    "# Programming Assignment 9\n",
    "\n",
    "### Part 1\n",
    "\n",
    "Implement a ANN to predict if  a passenger survived or perished during the titanic tragedy.\n",
    "\n",
    "Your inputs should be Pclass, Sex, Age, and Fare. Your output is Survived or Perished (1/0)\n",
    "\n",
    "Download the data file titanic_data.csv (included in this notebook)\n",
    "\n",
    "Split the data set 70/30 for training data and testing data. You may have to normalize your data!!! \n",
    "\n",
    "Follow the two examples in ArtificialNeuralNetworks.ipynb lecture to accompish this. \n",
    "\n",
    "Use the Sigmoid function and back prop. \n",
    "\n",
    "Turn in your program with outputs in a Jupyter Notebook.\n",
    "\n",
    "### Part 2\n",
    "\n",
    "Implement a deep learning network using keras and tensorflow to predict if a passenger survived or perished during the titanic tragedy. Use the basketball exmple in DeepLearning.ipynb notebook.\n",
    "\n",
    "Once again split your data set 70/30 for trainign and testing data. You may have to normalize your data!!! \n",
    "\n",
    "Use a Sequential Model with an input layer, one hidden layer, and the output layer. Use Sigmoid function as your output layer activation function. You can find other activatoins here https://keras.io/activations/ \n",
    "\n",
    "You can find loss functions for compiler here https://keras.io/losses/ \n",
    "\n",
    "You can find different optimizers here  https://www.tensorflow.org/api_docs/python/tf/train\n",
    "Note: Tensorflow API is not very user friendly!\n",
    "\n",
    "Output your model summary using \n",
    "model.summary()\n",
    "\n",
    "Output the evaluation of your test data.\n"
   ]
  }
 ],
 "metadata": {
  "kernelspec": {
   "display_name": "Python 3",
   "language": "python",
   "name": "python3"
  },
  "language_info": {
   "codemirror_mode": {
    "name": "ipython",
    "version": 3
   },
   "file_extension": ".py",
   "mimetype": "text/x-python",
   "name": "python",
   "nbconvert_exporter": "python",
   "pygments_lexer": "ipython3",
   "version": "3.7.4"
  }
 },
 "nbformat": 4,
 "nbformat_minor": 2
}
