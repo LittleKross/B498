{
 "cells": [
  {
   "cell_type": "markdown",
   "metadata": {},
   "source": [
    "## Programming Assignment 1\n",
    "\n",
    "Due on May 28th, 2020.\n",
    "\n",
    "Write a Python program to read Berkeley.csv and output only the admitted female frequency of all departments. Must use Python 3.x. I have included Berkeley.csv in Module 2 \n",
    "\n",
    "You may use any data structure if necessary. You do not have to use DataFrames to accomplish this, but if you know how to use them, feel free to use them.\n",
    "\n",
    "Make sure to properly comment your program.\n",
    "\n",
    "Turn in this Jupyter Notbook file with your answers.  \n",
    "\n",
    "Grading Rubric:\n",
    "\n",
    "Properly formatted and commented code - 20 %\n",
    "\n",
    "Program Correctness (use of proper logic) - 60%\n",
    "\n",
    "Correct outputs - 20%\n",
    "\n",
    "Programs with syntax errors receives no credit. \n",
    "\n",
    "No late assignments accepted!!!! "
   ]
  },
  {
   "cell_type": "code",
   "execution_count": null,
   "metadata": {},
   "outputs": [],
   "source": []
  }
 ],
 "metadata": {
  "kernelspec": {
   "display_name": "Python 3",
   "language": "python",
   "name": "python3"
  },
  "language_info": {
   "codemirror_mode": {
    "name": "ipython",
    "version": 3
   },
   "file_extension": ".py",
   "mimetype": "text/x-python",
   "name": "python",
   "nbconvert_exporter": "python",
   "pygments_lexer": "ipython3",
   "version": "3.7.6"
  }
 },
 "nbformat": 4,
 "nbformat_minor": 2
}
