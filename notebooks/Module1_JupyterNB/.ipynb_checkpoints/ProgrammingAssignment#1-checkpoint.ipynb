{
 "cells": [
  {
   "cell_type": "markdown",
   "metadata": {},
   "source": [
    "## Programming Assignment 1\n",
    "\n",
    "Due on May 28th, 2020.\n",
    "\n",
    "Write a Python program to read Berkeley.csv and output only the admitted female frequency of all departments. Must use Python 3.x. I have included Berkeley.csv in Module 2 \n",
    "\n",
    "You may use any data structure if necessary. You do not have to use DataFrames to accomplish this, but if you know how to use them, feel free to use them.\n",
    "\n",
    "Make sure to properly comment your program.\n",
    "\n",
    "Turn in this Jupyter Notbook file with your answers.  \n",
    "\n",
    "Grading Rubric:\n",
    "\n",
    "Properly formatted and commented code - 20 %\n",
    "\n",
    "Program Correctness (use of proper logic) - 60%\n",
    "\n",
    "Correct outputs - 20%\n",
    "\n",
    "Programs with syntax errors receives no credit. \n",
    "\n",
    "No late assignments accepted!!!! "
   ]
  },
  {
   "cell_type": "code",
   "execution_count": 1,
   "metadata": {},
   "outputs": [
    {
     "name": "stdout",
     "output_type": "stream",
     "text": [
      "Admitted,Male,A,512\n",
      "Rejected,Male,A,313\n",
      "Admitted,Female,A,89\n",
      "Rejected,Female,A,19\n",
      "Admitted,Male,B,353\n",
      "Rejected,Male,B,207\n",
      "Admitted,Female,B,17\n",
      "Rejected,Female,B,8\n",
      "Admitted,Male,C,120\n",
      "Rejected,Male,C,205\n",
      "Admitted,Female,C,202\n",
      "Rejected,Female,C,391\n",
      "Admitted,Male,D,138\n",
      "Rejected,Male,D,279\n",
      "Admitted,Female,D,131\n",
      "Rejected,Female,D,244\n",
      "Admitted,Male,E,53\n",
      "Rejected,Male,E,138\n",
      "Admitted,Female,E,94\n",
      "Rejected,Female,E,299\n",
      "Admitted,Male,F,22\n",
      "Rejected,Male,F,351\n",
      "Admitted,Female,F,24\n",
      "Rejected,Female,F,317\n",
      "Frequency of accepted females: 6\n"
     ]
    }
   ],
   "source": [
    "# Initialize frequency to 0\n",
    "frequency = 0\n",
    "\n",
    "# Open the file and store it in the data variable\n",
    "data = open('Berkeley.csv')\n",
    "\n",
    "# Remove the first header line\n",
    "data.readline()\n",
    "\n",
    "# Loop through each line of the file except the header\n",
    "for line in data:\n",
    "    \n",
    "    # If the line contains Admitted in the first position and Female in the second position, the frequency is incremented\n",
    "    if line.split(',')[0] == 'Admitted' and line.split(',')[1] == 'Female':\n",
    "        frequency += 1\n",
    "        \n",
    "    # Print out each line\n",
    "    print(line[:-1])\n",
    "    \n",
    "# Print out the frequency\n",
    "print('Frequency of accepted females: ' + str(frequency))"
   ]
  }
 ],
 "metadata": {
  "kernelspec": {
   "display_name": "Python 3",
   "language": "python",
   "name": "python3"
  },
  "language_info": {
   "codemirror_mode": {
    "name": "ipython",
    "version": 3
   },
   "file_extension": ".py",
   "mimetype": "text/x-python",
   "name": "python",
   "nbconvert_exporter": "python",
   "pygments_lexer": "ipython3",
   "version": "3.7.6"
  }
 },
 "nbformat": 4,
 "nbformat_minor": 2
}
