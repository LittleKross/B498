{
 "cells": [
  {
   "cell_type": "markdown",
   "metadata": {},
   "source": [
    "# Python Documentation and Tutorials "
   ]
  },
  {
   "cell_type": "markdown",
   "metadata": {},
   "source": [
    "You can access the documentation and tutrials at https://www.python.org/\n",
    "Use Python 3.x Documentation at https://docs.python.org/3/\n",
    "If you are rusty in Python programming, go through this tutorial at https://docs.python.org/3/tutorial/index.html\n",
    "Here is an excellent resource to learn Python step by step; https://www.techbeamers.com/python-tutorial-step-by-step/"
   ]
  },
  {
   "cell_type": "markdown",
   "metadata": {},
   "source": [
    "# Simple Programs"
   ]
  },
  {
   "cell_type": "markdown",
   "metadata": {},
   "source": [
    "Here is a sample program for implementing an Interest Calculator. By looking at it, you can feel how easy it is to write and understand the code in Python."
   ]
  },
  {
   "cell_type": "code",
   "execution_count": 3,
   "metadata": {},
   "outputs": [
    {
     "name": "stdout",
     "output_type": "stream",
     "text": [
      "Interest Calculator:\n",
      "Principal amount ?1000\n",
      "Rate of Interest ?2\n",
      "Duration (no. of years) ?3\n",
      "\n",
      "Interest = 61.21\n"
     ]
    }
   ],
   "source": [
    "# Good code is self-documenting. (this is a single line comment)\n",
    "\n",
    "print('Interest Calculator:')\n",
    "\n",
    "amount = float(input('Principal amount ?'))\n",
    "roi = float(input('Rate of Interest ?'))\n",
    "yrs = int(input('Duration (no. of years) ?'))\n",
    "\n",
    "total = (amount * pow(1 + (roi/100), yrs))\n",
    "interest = total - amount\n",
    "print('\\nInterest = %0.2f' %interest)"
   ]
  },
  {
   "cell_type": "markdown",
   "metadata": {},
   "source": [
    "# Functions, Comments, and DocStrings"
   ]
  },
  {
   "cell_type": "code",
   "execution_count": 6,
   "metadata": {},
   "outputs": [
    {
     "name": "stdout",
     "output_type": "stream",
     "text": [
      "\n",
      "Just printing the docstring value...\n",
      "\n",
      "This function demonstrate the use of docstring in Python.\n",
      "The strings beginning with triple quotes are still regular strings except the fact that they could spread to multiple lines. \n",
      "It means they are executable statements. if such a string is placed immediately after a function or class definition or on top of a module, then they turn into docstrings. \n",
      "You can access them using the following special variable.\n",
      "    \n"
     ]
    }
   ],
   "source": [
    "#functions are defined with def follwed by the function name\n",
    "def theFunction():\n",
    "    '''\n",
    "This function demonstrate the use of docstring in Python.\n",
    "The strings beginning with triple quotes are still regular strings except the fact that they could spread to multiple lines. \n",
    "It means they are executable statements. if such a string is placed immediately after a function or class definition or on top of a module, then they turn into docstrings. \n",
    "You can access them using the following special variable.\n",
    "    '''\n",
    "    print(\"Python docstrings are not comments.\")\n",
    "\n",
    "print(\"\\nJust printing the docstring value...\")\n",
    "print(theFunction.__doc__) #this is the special variable"
   ]
  },
  {
   "cell_type": "code",
   "execution_count": 7,
   "metadata": {},
   "outputs": [
    {
     "name": "stdout",
     "output_type": "stream",
     "text": [
      "You entered an even number.\n",
      "You entered an odd number.\n"
     ]
    }
   ],
   "source": [
    "#a simple example where a function “typeOfNum()” has nested functions to decide on a number is either odd or even.\n",
    "\n",
    "def typeOfNum(num): # Function header\n",
    "    # Function body\n",
    "    if num % 2 == 0:\n",
    "        def message():\n",
    "            print(\"You entered an even number.\")\n",
    "    else:\n",
    "        def message():\n",
    "            print(\"You entered an odd number.\")\n",
    "    message()\n",
    "# End of function\n",
    "\n",
    "typeOfNum(2)  # call the function\n",
    "typeOfNum(3)  # call the function again"
   ]
  },
  {
   "cell_type": "markdown",
   "metadata": {},
   "source": [
    "# Data Types\n",
    "If you noticed in the previous code block, we did not use data types. This is because,\n",
    "* Python is a dynamically typed language which means the types correlate with values, not with variables. Hence, the polymorphism runs unrestricted.\n",
    "* That’s one of the primary differences between Python and other statically typed languages such as C++ or Java.\n",
    "* In Python, you don’t have to mention the specific data types while coding.\n",
    "* However, if you do, then the code limits to the types anticipated at the time of coding.\n",
    "* Such code won’t allow other compatible types that may require in the future.\n",
    "* Python doesn’t support any form of function overloading."
   ]
  },
  {
   "cell_type": "markdown",
   "metadata": {},
   "source": [
    "*****You can learn more about Data types using 02.01-Understanding-Data-Types.ipynb"
   ]
  },
  {
   "cell_type": "code",
   "execution_count": 8,
   "metadata": {},
   "outputs": [
    {
     "name": "stdout",
     "output_type": "stream",
     "text": [
      "36\n",
      "Python!Python!\n"
     ]
    },
    {
     "ename": "TypeError",
     "evalue": "can't multiply sequence by non-int of type 'str'",
     "output_type": "error",
     "traceback": [
      "\u001b[0;31m---------------------------------------------------------------------------\u001b[0m",
      "\u001b[0;31mTypeError\u001b[0m                                 Traceback (most recent call last)",
      "\u001b[0;32m<ipython-input-8-17e3f5213033>\u001b[0m in \u001b[0;36m<module>\u001b[0;34m()\u001b[0m\n\u001b[1;32m      3\u001b[0m \u001b[0mprint\u001b[0m\u001b[0;34m(\u001b[0m\u001b[0mproduct\u001b[0m\u001b[0;34m(\u001b[0m\u001b[0;34m'Python!'\u001b[0m\u001b[0;34m,\u001b[0m \u001b[0;36m2\u001b[0m\u001b[0;34m)\u001b[0m\u001b[0;34m)\u001b[0m  \u001b[0;31m# function returns\u001b[0m\u001b[0;34m\u001b[0m\u001b[0m\n\u001b[1;32m      4\u001b[0m                               \u001b[0;31m# Python!Python!\u001b[0m\u001b[0;34m\u001b[0m\u001b[0;34m\u001b[0m\u001b[0m\n\u001b[0;32m----> 5\u001b[0;31m \u001b[0mprint\u001b[0m\u001b[0;34m(\u001b[0m\u001b[0mproduct\u001b[0m\u001b[0;34m(\u001b[0m\u001b[0;34m'Python 2 or 3?'\u001b[0m\u001b[0;34m,\u001b[0m \u001b[0;34m'3'\u001b[0m\u001b[0;34m)\u001b[0m\u001b[0;34m)\u001b[0m \u001b[0;31m# TypeError occurs\u001b[0m\u001b[0;34m\u001b[0m\u001b[0m\n\u001b[0m",
      "\u001b[0;32m<ipython-input-8-17e3f5213033>\u001b[0m in \u001b[0;36mproduct\u001b[0;34m(x, y)\u001b[0m\n\u001b[0;32m----> 1\u001b[0;31m \u001b[0;32mdef\u001b[0m \u001b[0mproduct\u001b[0m\u001b[0;34m(\u001b[0m\u001b[0mx\u001b[0m\u001b[0;34m,\u001b[0m \u001b[0my\u001b[0m\u001b[0;34m)\u001b[0m \u001b[0;34m:\u001b[0m \u001b[0;32mreturn\u001b[0m \u001b[0mx\u001b[0m \u001b[0;34m*\u001b[0m \u001b[0my\u001b[0m\u001b[0;34m\u001b[0m\u001b[0m\n\u001b[0m\u001b[1;32m      2\u001b[0m \u001b[0mprint\u001b[0m\u001b[0;34m(\u001b[0m\u001b[0mproduct\u001b[0m\u001b[0;34m(\u001b[0m\u001b[0;36m4\u001b[0m\u001b[0;34m,\u001b[0m \u001b[0;36m9\u001b[0m\u001b[0;34m)\u001b[0m\u001b[0;34m)\u001b[0m \u001b[0;31m# function returns 36\u001b[0m\u001b[0;34m\u001b[0m\u001b[0m\n\u001b[1;32m      3\u001b[0m \u001b[0mprint\u001b[0m\u001b[0;34m(\u001b[0m\u001b[0mproduct\u001b[0m\u001b[0;34m(\u001b[0m\u001b[0;34m'Python!'\u001b[0m\u001b[0;34m,\u001b[0m \u001b[0;36m2\u001b[0m\u001b[0;34m)\u001b[0m\u001b[0;34m)\u001b[0m  \u001b[0;31m# function returns\u001b[0m\u001b[0;34m\u001b[0m\u001b[0m\n\u001b[1;32m      4\u001b[0m                               \u001b[0;31m# Python!Python!\u001b[0m\u001b[0;34m\u001b[0m\u001b[0;34m\u001b[0m\u001b[0m\n\u001b[1;32m      5\u001b[0m \u001b[0mprint\u001b[0m\u001b[0;34m(\u001b[0m\u001b[0mproduct\u001b[0m\u001b[0;34m(\u001b[0m\u001b[0;34m'Python 2 or 3?'\u001b[0m\u001b[0;34m,\u001b[0m \u001b[0;34m'3'\u001b[0m\u001b[0;34m)\u001b[0m\u001b[0;34m)\u001b[0m \u001b[0;31m# TypeError occurs\u001b[0m\u001b[0;34m\u001b[0m\u001b[0m\n",
      "\u001b[0;31mTypeError\u001b[0m: can't multiply sequence by non-int of type 'str'"
     ]
    }
   ],
   "source": [
    "# Demonstrate type binding\n",
    "def product(x, y) : return x * y\n",
    "print(product(4, 9)) # function returns 36\n",
    "print(product('Python!', 2))  # function returns\n",
    "                              # Python!Python!\n",
    "print(product('Python 2 or 3?', '3')) # TypeError occurs"
   ]
  },
  {
   "cell_type": "markdown",
   "metadata": {},
   "source": [
    "# Python List\n",
    "A list in Python, also known as a sequence, is an ordered collection of objects. It can hold values of any data types such as numbers, letters, strings, and even the nested lists as well.\n",
    "\n",
    "Every element rests at some position (i.e., index) in the list. The index can be used later to locate a particular item. The first index begins at zero, next is one, and so forth.\n",
    "\n",
    "Unlike strings, lists are mutable (or changeable) in Python. It implies that you can replace, add or remove elements."
   ]
  },
  {
   "cell_type": "code",
   "execution_count": 12,
   "metadata": {},
   "outputs": [
    {
     "name": "stdout",
     "output_type": "stream",
     "text": [
      "['Python', 'C', 'C++', 'Java', 'Angular']\n",
      "['Python', 'Ruby', 'TypeScript', 'JavaScript', 'Angular']\n",
      "\n",
      " Iterating through the list\n",
      "0 Python\n",
      "1 Ruby\n",
      "2 TypeScript\n",
      "3 JavaScript\n",
      "4 Angular\n"
     ]
    }
   ],
   "source": [
    "theList = ['Python', 'C', 'C++', 'Java', 'CSharp'] # create a list\n",
    "\n",
    "theList[4] = 'Angular' # item replacement\n",
    "print(theList)\n",
    "\n",
    "theList[1:4] = ['Ruby', 'TypeScript', 'JavaScript'] \n",
    "print(theList)\n",
    "\n",
    "print('\\n Iterating through the list')\n",
    "#iterate through list with index\n",
    "for index, element in enumerate(theList):\n",
    " print(index, element)\n"
   ]
  },
  {
   "cell_type": "code",
   "execution_count": 26,
   "metadata": {},
   "outputs": [
    {
     "name": "stdout",
     "output_type": "stream",
     "text": [
      "match at 3 position.\n"
     ]
    }
   ],
   "source": [
    "# If you would like to fetch the index for first matching item\n",
    "theList = ['a','e','i','o','u']\n",
    "\n",
    "def matchall(theList, value, pos=0):\n",
    "    loc = pos - 1\n",
    "    try:\n",
    "        loc = theList.index(value, loc+1)\n",
    "        yield loc\n",
    "    except ValueError:\n",
    "        pass\n",
    "\n",
    "value = 'i'\n",
    "for loc in matchall(theList, value):\n",
    "    print(\"match at\", loc+1, \"position.\")"
   ]
  },
  {
   "cell_type": "markdown",
   "metadata": {},
   "source": [
    "# Sorting a List"
   ]
  },
  {
   "cell_type": "markdown",
   "metadata": {},
   "source": [
    "Python list implements the sort() method for ordering (in both ascending and descending order) its elements in place."
   ]
  },
  {
   "cell_type": "code",
   "execution_count": 28,
   "metadata": {},
   "outputs": [
    {
     "name": "stdout",
     "output_type": "stream",
     "text": [
      "['a', 'e', 'i', 'o', 'u']\n",
      "['ee', 'es', 'et', 'ge', 'gs', 'gt', 'te', 'ts', 'tt']\n"
     ]
    }
   ],
   "source": [
    "theList = ['a','e','i','o','u']\n",
    "theList.sort()\n",
    "print(theList)\n",
    "\n",
    "theList = ['gs', 'ge', 'gt', 'es', 'ee', 'et', 'ts', 'te', 'tt'] # reassignment of theList\n",
    "theList.sort()\n",
    "print(theList)"
   ]
  },
  {
   "cell_type": "markdown",
   "metadata": {},
   "source": [
    "# Object Orient Programming\n",
    "* Python supports object-oriented programming (OOP)\n",
    "* A class is an arrangement of variables and functions into a single logical entity. It works as a template for creating objects. Every object can use class variables and functions as its members.\n",
    "\n",
    "**Some terms which you need to know while working with classes in Python.\n",
    "\n",
    "1. The “class” keyword\n",
    "2. The instance attributes\n",
    "3. The class attributes\n",
    "4. The “self” keyword\n",
    "5. The “__init_” method\n",
    "\n",
    "    - With the class keyword, we can create a Python class\n",
    "    - The “__init__()” is a unique, it is the constructor, and it is called automatically\n",
    "    - Instance attributes are object-specific attributes defined as parameters to the __init__ method. \n",
    "    - Unlike the instance attributes which are visible at object-level, the class attributes remain the same for all   objects. (More like a static variable in Java class)\n",
    "    - Python provides the “self” keyword to represent the instance of a class. It works as a handle for accessing the class members such as attributes from the class methods. (More like 'this' in Java or C++) \n",
    "\n",
    "**Here is an example\n"
   ]
  },
  {
   "cell_type": "code",
   "execution_count": 29,
   "metadata": {},
   "outputs": [
    {
     "name": "stdout",
     "output_type": "stream",
     "text": [
      "Book title: Great Expectations\n",
      "Book author: Charles Dickens \n",
      "\n",
      "Book title: War and Peace\n",
      "Book author: Leo Tolstoy \n",
      "\n",
      "Book title: Middlemarch\n",
      "Book author: George Eliot \n",
      "\n",
      "BookStore.noOfBooks: 3\n"
     ]
    }
   ],
   "source": [
    "class BookStore: # create a Python class\n",
    "    noOfBooks = 0 # class attribute\n",
    " \n",
    "    def __init__(self, title, author): #instance attributes are parameters to constructor\n",
    "        self.title = title\n",
    "        self.author = author\n",
    "        BookStore.noOfBooks += 1\n",
    " \n",
    "    def bookInfo(self): \n",
    "        print(\"Book title:\", self.title)\n",
    "        print(\"Book author:\", self.author,\"\\n\")\n",
    " \n",
    "# Create a virtual book store\n",
    "b1 = BookStore(\"Great Expectations\", \"Charles Dickens\") # individual object creation\n",
    "b2 = BookStore(\"War and Peace\", \"Leo Tolstoy\")\n",
    "b3 = BookStore(\"Middlemarch\", \"George Eliot\")\n",
    " \n",
    "# call member functions for each object\n",
    "b1.bookInfo()\n",
    "b2.bookInfo()\n",
    "b3.bookInfo()\n",
    "\n",
    "print(\"BookStore.noOfBooks:\", BookStore.noOfBooks)"
   ]
  },
  {
   "cell_type": "markdown",
   "metadata": {},
   "source": [
    "# File Handling\n",
    "In Python, file processing takes place in the following order.\n",
    "\n",
    "* Open a file which returns a file handle.\n",
    "* Use the handle to perform read or write action.\n",
    "* Close the file handle.\n",
    "\n",
    "**Open a file \n",
    "file object = open(file_name [, access_mode][, buffering])\n",
    "\n",
    "1. access_mode - It’s an integer representing the file open mode e.g. read, write, append, etc.\n",
    "     ** <r>\tIt opens a file in read-only mode while the file offset stays at the root.\n",
    "     ** <w>\tIt allows write-level access to a file. If the file already exists, then it’ll get overwritten. It’ll create a new file if the same doesn’t exist.\n",
    "     ** <a>\tIt opens the file in append mode. The offset goes to the end of the file. If the file doesn’t exist, then it gets created.\n",
    "     ** <r+> It opens the file in both (read + write) modes while the file offset is again at the root level.\n",
    "     ** <w+> It opens a file in both (read + write) modes. Same behavior as for write-only mode.\n",
    "     ** <a+>\tIt opens a file in (append + read) modes. Same behavior as for append mode.\n",
    "    \n",
    "2. buffering - The default value is 0 which means buffering won’t happen. If the value is 1, then line buffering will take place while accessing the file. \n",
    "\n",
    "3. file_name - It’s a string representing the name of the file you want to access.\n",
    "\n",
    "Python File Encoding\n",
    "In Python 3.x, there is a clear difference between strings (text) and a byte (8-bits). It states that the char ‘a’ doesn’t represent the ASCII value 97 until you specify it like that. So, while you want to use a file in text mode, then better you mention the correct encoding type.\n",
    "\n",
    "**Example\n",
    "f = open('app.log', mode = 'r', encoding = 'utf-8')\n",
    "\n",
    "* Encoding <cp1252> for Windows and <utf-8> for Linux/Unix is standard by default for text"
   ]
  },
  {
   "cell_type": "code",
   "execution_count": 33,
   "metadata": {},
   "outputs": [],
   "source": [
    "try: # use a try to avoid exceptions\n",
    "   f = open(\"Berkeley.csv\", mode = 'r', encoding = 'utf-8')\n",
    "   # do file operations.\n",
    "   \n",
    "finally:\n",
    "   f.close()"
   ]
  },
  {
   "cell_type": "markdown",
   "metadata": {},
   "source": [
    "***Another way to close a file is by using the WITH clause. It ensures that the file gets closed when the block inside the WITH clause executes. The beauty of this method is that it doesn’t require to call the close() method explicitly."
   ]
  },
  {
   "cell_type": "code",
   "execution_count": 36,
   "metadata": {},
   "outputs": [
    {
     "name": "stdout",
     "output_type": "stream",
     "text": [
      "my first file\n",
      "\n",
      "This file\n",
      "\n",
      "contains three lines\n",
      "\n"
     ]
    }
   ],
   "source": [
    "with open('app.log', 'w', encoding = 'utf-8') as f: # write to a file name app.log\n",
    "   #first line\n",
    "   f.write('my first file\\n')\n",
    "   #second line\n",
    "   f.write('This file\\n')\n",
    "   #third line\n",
    "   f.write('contains three lines\\n')\n",
    "\n",
    "with open('app.log', 'r', encoding = 'utf-8') as f:\n",
    "   content = f.readlines() # read the content \n",
    "\n",
    "for line in content:\n",
    "   print(line) # output the content read from file"
   ]
  },
  {
   "cell_type": "code",
   "execution_count": 37,
   "metadata": {},
   "outputs": [
    {
     "name": "stdout",
     "output_type": "stream",
     "text": [
      "Read String is :  It is my first file\n",
      "Current file position :  19\n",
      "Again read String is :  It is my first file\n"
     ]
    }
   ],
   "source": [
    "with open('app.log', 'w', encoding = 'utf-8') as f:\n",
    "   #first line\n",
    "   f.write('It is my first file\\n')\n",
    "   #second line\n",
    "   f.write('This file\\n')\n",
    "   #third line\n",
    "   f.write('contains three lines\\n')\n",
    "\n",
    "#Open a file\n",
    "f = open('app.log', 'r+')\n",
    "data = f.read(19);\n",
    "print('Read String is : ', data)\n",
    "\n",
    "#Check current position\n",
    "position = f.tell();\n",
    "print('Current file position : ', position)\n",
    "\n",
    "#Reposition pointer at the beginning once again\n",
    "position = f.seek(0, 0);\n",
    "data = f.read(19);\n",
    "print('Again read String is : ', data)\n",
    "\n",
    "#Close the opened file\n",
    "f.close()"
   ]
  },
  {
   "cell_type": "markdown",
   "metadata": {},
   "source": [
    "**TODO - Write a program to read Berkeley.csv file and output only the admitted female frequencey of all departments. "
   ]
  }
 ],
 "metadata": {
  "kernelspec": {
   "display_name": "Python 3",
   "language": "python",
   "name": "python3"
  },
  "language_info": {
   "codemirror_mode": {
    "name": "ipython",
    "version": 3
   },
   "file_extension": ".py",
   "mimetype": "text/x-python",
   "name": "python",
   "nbconvert_exporter": "python",
   "pygments_lexer": "ipython3",
   "version": "3.7.6"
  }
 },
 "nbformat": 4,
 "nbformat_minor": 2
}
